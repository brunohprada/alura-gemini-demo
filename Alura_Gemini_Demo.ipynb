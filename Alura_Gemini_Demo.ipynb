{
  "nbformat": 4,
  "nbformat_minor": 0,
  "metadata": {
    "colab": {
      "provenance": [],
      "authorship_tag": "ABX9TyPoYCEL4/L/7r1uZNsO3kIb",
      "include_colab_link": true
    },
    "kernelspec": {
      "name": "python3",
      "display_name": "Python 3"
    },
    "language_info": {
      "name": "python"
    }
  },
  "cells": [
    {
      "cell_type": "markdown",
      "metadata": {
        "id": "view-in-github",
        "colab_type": "text"
      },
      "source": [
        "<a href=\"https://colab.research.google.com/github/brunohprada/alura-gemini-demo/blob/main/Alura_Gemini_Demo.ipynb\" target=\"_parent\"><img src=\"https://colab.research.google.com/assets/colab-badge.svg\" alt=\"Open In Colab\"/></a>"
      ]
    },
    {
      "cell_type": "markdown",
      "source": [
        "## Instalando o SDK do Google"
      ],
      "metadata": {
        "id": "DHYwf5rI5WCT"
      }
    },
    {
      "cell_type": "code",
      "execution_count": 1,
      "metadata": {
        "id": "qSuDkK14231H"
      },
      "outputs": [],
      "source": [
        "!pip install -q -U google-generativeai"
      ]
    },
    {
      "cell_type": "code",
      "source": [
        "import google.generativeai as genai\n",
        "from google.colab import userdata\n",
        "\n",
        "GOOGLE_API_KEY = userdata.get('GOOGLE_API_KEY')\n",
        "\n",
        "genai.configure(api_key=GOOGLE_API_KEY)"
      ],
      "metadata": {
        "id": "_IAjHKyR47B1"
      },
      "execution_count": 2,
      "outputs": []
    },
    {
      "cell_type": "markdown",
      "source": [
        "## Listar os Modelos Disponíveis"
      ],
      "metadata": {
        "id": "pfYMwVNG5OiS"
      }
    },
    {
      "cell_type": "code",
      "source": [
        "for m in genai.list_models():\n",
        "  if 'generateContent' in m.supported_generation_methods:\n",
        "    print(m.name)"
      ],
      "metadata": {
        "colab": {
          "base_uri": "https://localhost:8080/",
          "height": 153
        },
        "id": "4hWxyhWs5hFk",
        "outputId": "f086d27f-6eba-4c00-fa88-3ad9c098232a"
      },
      "execution_count": 3,
      "outputs": [
        {
          "output_type": "stream",
          "name": "stdout",
          "text": [
            "models/gemini-1.0-pro\n",
            "models/gemini-1.0-pro-001\n",
            "models/gemini-1.0-pro-latest\n",
            "models/gemini-1.0-pro-vision-latest\n",
            "models/gemini-1.5-pro-latest\n",
            "models/gemini-pro\n",
            "models/gemini-pro-vision\n"
          ]
        }
      ]
    },
    {
      "cell_type": "code",
      "source": [
        "generation_config = {\n",
        "    \"candidate_count\": 1,\n",
        "    \"temperature\": 0.5,\n",
        "}"
      ],
      "metadata": {
        "id": "ME9uRQa2645g"
      },
      "execution_count": 4,
      "outputs": []
    },
    {
      "cell_type": "code",
      "source": [
        "safety_settings = {\n",
        "    \"HARASSMENT\": \"BLOCK_NONE\",\n",
        "    \"HATE\": \"BLOCK_NONE\",\n",
        "    \"SEXUAL\": \"BLOCK_NONE\",\n",
        "    \"DANGEROUS\": \"BLOCK_NONE\",\n",
        "}"
      ],
      "metadata": {
        "id": "LcVyyZPeCn0R"
      },
      "execution_count": 5,
      "outputs": []
    },
    {
      "cell_type": "markdown",
      "source": [
        "## Inicializando o Modelo"
      ],
      "metadata": {
        "id": "nWCeo8QmDclK"
      }
    },
    {
      "cell_type": "code",
      "source": [
        "model = genai.GenerativeModel(model_name=\"gemini-1.0-pro\", generation_config=generation_config, safety_settings=safety_settings)"
      ],
      "metadata": {
        "id": "6ArQPmTcDfkj"
      },
      "execution_count": 6,
      "outputs": []
    },
    {
      "cell_type": "code",
      "source": [
        "response = model.generate_content(\"Vamos aprender conteúdo sobre IA. Me dê sugestôes.\")\n",
        "print(response.text)"
      ],
      "metadata": {
        "colab": {
          "base_uri": "https://localhost:8080/",
          "height": 814
        },
        "id": "d5L5h993ECM-",
        "outputId": "e01b8314-2a1d-4b27-d86f-5068727456ad"
      },
      "execution_count": 7,
      "outputs": [
        {
          "output_type": "stream",
          "name": "stdout",
          "text": [
            "**Conceitos Fundamentais de IA**\n",
            "\n",
            "* Definição de Inteligência Artificial\n",
            "* Tipos de IA: estreita, geral, superinteligente\n",
            "* Aprendizado de Máquina vs. Aprendizado Profundo\n",
            "\n",
            "**Técnicas de Aprendizado de Máquina**\n",
            "\n",
            "* Aprendizado Supervisionado: Regressão e Classificação\n",
            "* Aprendizado Não Supervisionado: Agrupamento e Redução de Dimensionalidade\n",
            "* Aprendizado por Reforço\n",
            "* Processamento de Linguagem Natural (PNL)\n",
            "\n",
            "**Aplicações de IA**\n",
            "\n",
            "* Visão Computacional\n",
            "* Reconhecimento de Fala\n",
            "* Tradução Automática\n",
            "* Carros Autônomos\n",
            "* Diagnóstico Médico\n",
            "\n",
            "**Ética e Implicações Sociais da IA**\n",
            "\n",
            "* Viés e Discriminação em Algoritmos de IA\n",
            "* Perda de Empregos devido à Automação\n",
            "* Privacidade e Segurança de Dados\n",
            "* Regulamentação e Governança de IA\n",
            "\n",
            "**Recursos de Aprendizado**\n",
            "\n",
            "**Cursos Online:**\n",
            "\n",
            "* Coursera: Especialização em Fundamentos de Inteligência Artificial\n",
            "* edX: Curso de Ciência de Dados e Aprendizado de Máquina\n",
            "* Udacity: Nanodegree em Inteligência Artificial\n",
            "\n",
            "**Livros:**\n",
            "\n",
            "* \"Inteligência Artificial: Uma Abordagem Moderna\" por Stuart Russell e Peter Norvig\n",
            "* \"Aprendizado de Máquina\" por Tom Mitchell\n",
            "* \"Aprendizado Profundo\" por Ian Goodfellow, Yoshua Bengio e Aaron Courville\n",
            "\n",
            "**Comunidades Online:**\n",
            "\n",
            "* Fórum do Google AI\n",
            "* Subreddit de Aprendizado de Máquina\n",
            "* Grupo do LinkedIn de Inteligência Artificial\n"
          ]
        }
      ]
    },
    {
      "cell_type": "code",
      "source": [
        "chat = model.start_chat(history=[])"
      ],
      "metadata": {
        "id": "XqPeQDZNEdD2"
      },
      "execution_count": 8,
      "outputs": []
    },
    {
      "cell_type": "code",
      "source": [
        "prompt = input(\"Esperando prompt: \")\n",
        "\n",
        "while prompt != \"fim\":\n",
        "  response = chat.send_message(prompt)\n",
        "  print(\"Resposta: \", response.text, \"\\n\")\n",
        "  prompt = input(\"Esperando prompt: \")"
      ],
      "metadata": {
        "colab": {
          "base_uri": "https://localhost:8080/",
          "height": 385
        },
        "id": "t0niS9aYE7Y-",
        "outputId": "5f1e4308-c7f2-4f51-fad9-ead585174327"
      },
      "execution_count": null,
      "outputs": [
        {
          "output_type": "stream",
          "name": "stdout",
          "text": [
            "Esperando prompt: Qual a capital do Brasil?\n",
            "Resposta:  Brasília \n",
            "\n",
            "Esperando prompt: Quando esse país foi descoberto?\n",
            "Resposta:  Brasil\n",
            "\n",
            "**Data de Descoberta:** 22 de abril de 1500\n",
            "\n",
            "**Descobridor:** Pedro Álvares Cabral \n",
            "\n",
            "Esperando prompt: Quando ocorreu a abolição da escravidão?\n",
            "Resposta:  **Brasil:** 13 de maio de 1888\n",
            "\n",
            "**Estados Unidos:** 18 de dezembro de 1865 (Proclamação da Emancipação) e 6 de dezembro de 1865 (13ª Emenda) \n",
            "\n",
            "Esperando prompt: Qual a lei que aboliu a escravidão nesse país?\n",
            "Resposta:  **Brasil:** **Lei Áurea** (Lei nº 3.353, de 13 de maio de 1888)\n",
            "\n",
            "**Estados Unidos:** **13ª Emenda** à Constituição dos Estados Unidos (ratificada em 6 de dezembro de 1865) \n",
            "\n"
          ]
        }
      ]
    },
    {
      "cell_type": "code",
      "source": [
        "chat"
      ],
      "metadata": {
        "colab": {
          "base_uri": "https://localhost:8080/"
        },
        "id": "WXzHp-M4FGT6",
        "outputId": "9b2861dd-ac1d-462a-eb28-b22ee6c5a6f9"
      },
      "execution_count": 13,
      "outputs": [
        {
          "output_type": "execute_result",
          "data": {
            "text/plain": [
              "ChatSession(\n",
              "    model=genai.GenerativeModel(\n",
              "        model_name='models/gemini-1.0-pro',\n",
              "        generation_config={'candidate_count': 1, 'temperature': 0.5},\n",
              "        safety_settings={<HarmCategory.HARM_CATEGORY_HARASSMENT: 7>: <HarmBlockThreshold.BLOCK_NONE: 4>, <HarmCategory.HARM_CATEGORY_HATE_SPEECH: 8>: <HarmBlockThreshold.BLOCK_NONE: 4>, <HarmCategory.HARM_CATEGORY_SEXUALLY_EXPLICIT: 9>: <HarmBlockThreshold.BLOCK_NONE: 4>, <HarmCategory.HARM_CATEGORY_DANGEROUS_CONTENT: 10>: <HarmBlockThreshold.BLOCK_NONE: 4>},\n",
              "        tools=None,\n",
              "        system_instruction=None,\n",
              "    ),\n",
              "    history=[glm.Content({'parts': [{'text': 'Teste'}], 'role': 'user'}), glm.Content({'parts': [{'text': '**Teste de C...n10. Rio Nilo'}], 'role': 'model'}), glm.Content({'parts': [{'text': 'Qual é a capital do japão?'}], 'role': 'user'}), glm.Content({'parts': [{'text': 'Tóquio'}], 'role': 'model'}), glm.Content({'parts': [{'text': 'Qual é a com...a desse país?'}], 'role': 'user'}), glm.Content({'parts': [{'text': 'Sushi'}], 'role': 'model'})]\n",
              ")"
            ]
          },
          "metadata": {},
          "execution_count": 13
        }
      ]
    },
    {
      "cell_type": "code",
      "source": [
        "# Melhorando a visualização\n",
        "# Código disponível em https://ai.google.dev/tutorials/python_quickstart#import_packages\n",
        "\n",
        "import textwrap\n",
        "from IPython.display import display\n",
        "from IPython.display import Markdown\n",
        "\n",
        "def to_markdown(text):\n",
        "  text = text.replace('*', '*')\n",
        "  return Markdown(textwrap.indent(text, '> ', predicate=lambda _: True))\n",
        "\n",
        "# Imprimindo o histórico\n",
        "for message in chat.history:\n",
        "  display(to_markdown(f'**{message.role}**: {message.parts[0].text}'))\n",
        "  print('---------------------------------------------')"
      ],
      "metadata": {
        "colab": {
          "base_uri": "https://localhost:8080/",
          "height": 838
        },
        "id": "yJhHUmzVGwPS",
        "outputId": "12db4352-e020-49ad-e31d-44355d2c5b6e"
      },
      "execution_count": 18,
      "outputs": [
        {
          "output_type": "display_data",
          "data": {
            "text/plain": [
              "<IPython.core.display.Markdown object>"
            ],
            "text/markdown": "> **user**: Teste"
          },
          "metadata": {}
        },
        {
          "output_type": "stream",
          "name": "stdout",
          "text": [
            "---------------------------------------------\n"
          ]
        },
        {
          "output_type": "display_data",
          "data": {
            "text/plain": [
              "<IPython.core.display.Markdown object>"
            ],
            "text/markdown": "> **model**: **Teste de Conhecimento**\n> \n> **Instruções:** Responda às seguintes perguntas da melhor forma possível.\n> \n> **Perguntas:**\n> \n> 1. Qual é a capital da França?\n> 2. Qual é o nome do maior oceano do mundo?\n> 3. Quem é o autor do romance \"Cem Anos de Solidão\"?\n> 4. Qual é a fórmula química da água?\n> 5. Qual é o nome do presidente atual do Brasil?\n> 6. Qual é a montanha mais alta do mundo?\n> 7. Qual é o nome do sistema operacional usado pela maioria dos computadores?\n> 8. Qual é o nome do elemento químico mais leve?\n> 9. Qual é o nome do maior deserto do mundo?\n> 10. Qual é o nome do rio mais longo do mundo?\n> \n> **Chave de Respostas:**\n> \n> 1. Paris\n> 2. Oceano Pacífico\n> 3. Gabriel García Márquez\n> 4. H2O\n> 5. Luiz Inácio Lula da Silva\n> 6. Monte Everest\n> 7. Windows\n> 8. Hidrogênio\n> 9. Deserto do Saara\n> 10. Rio Nilo"
          },
          "metadata": {}
        },
        {
          "output_type": "stream",
          "name": "stdout",
          "text": [
            "---------------------------------------------\n"
          ]
        },
        {
          "output_type": "display_data",
          "data": {
            "text/plain": [
              "<IPython.core.display.Markdown object>"
            ],
            "text/markdown": "> **user**: Qual é a capital do japão?"
          },
          "metadata": {}
        },
        {
          "output_type": "stream",
          "name": "stdout",
          "text": [
            "---------------------------------------------\n"
          ]
        },
        {
          "output_type": "display_data",
          "data": {
            "text/plain": [
              "<IPython.core.display.Markdown object>"
            ],
            "text/markdown": "> **model**: Tóquio"
          },
          "metadata": {}
        },
        {
          "output_type": "stream",
          "name": "stdout",
          "text": [
            "---------------------------------------------\n"
          ]
        },
        {
          "output_type": "display_data",
          "data": {
            "text/plain": [
              "<IPython.core.display.Markdown object>"
            ],
            "text/markdown": "> **user**: Qual é a comida típica desse país?"
          },
          "metadata": {}
        },
        {
          "output_type": "stream",
          "name": "stdout",
          "text": [
            "---------------------------------------------\n"
          ]
        },
        {
          "output_type": "display_data",
          "data": {
            "text/plain": [
              "<IPython.core.display.Markdown object>"
            ],
            "text/markdown": "> **model**: Sushi"
          },
          "metadata": {}
        },
        {
          "output_type": "stream",
          "name": "stdout",
          "text": [
            "---------------------------------------------\n"
          ]
        }
      ]
    },
    {
      "cell_type": "code",
      "source": [],
      "metadata": {
        "id": "WB5gXXgOIDqH"
      },
      "execution_count": null,
      "outputs": []
    }
  ]
}